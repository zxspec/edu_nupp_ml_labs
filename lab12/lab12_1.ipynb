{
 "cells": [
  {
   "attachments": {},
   "cell_type": "markdown",
   "metadata": {},
   "source": [
    "# Лабораторна робота №12"
   ]
  },
  {
   "attachments": {},
   "cell_type": "markdown",
   "metadata": {},
   "source": [
    "## Завдання 1\n",
    "\n",
    "Для масиву X виконати наступне:\n",
    "1. Знайти середнє відхилення div значень масиву від середнього арифметичного значення.\n",
    "2. Розробити функцію, яка присвоює мітки елементам масиву за наступним правилом:\n",
    "0 𝑖𝑓 𝑥[𝑖]>𝑎𝑣𝑒+𝑑𝑖𝑣 𝑙𝑎𝑏𝑒𝑙= { 1 𝑖𝑓 𝑎𝑣𝑒−𝑑𝑖𝑣≤𝑥[𝑖]≤𝑎𝑣𝑒+𝑑𝑖𝑣\n",
    "0 𝑖𝑓 𝑥[𝑖]<𝑎𝑣𝑒−𝑑𝑖𝑣\n",
    "3. Виконати перетворення для масиву із прикладу вище."
   ]
  },
  {
   "cell_type": "code",
   "execution_count": 1,
   "metadata": {},
   "outputs": [],
   "source": [
    "import numpy as np\n",
    "from sklearn.preprocessing import FunctionTransformer"
   ]
  },
  {
   "cell_type": "code",
   "execution_count": 2,
   "metadata": {},
   "outputs": [],
   "source": [
    "X = np.array([\n",
    "    [5.1, -2.9, 3.3],\n",
    "    [3.9, 0.4, 2.1],\n",
    "    [7.3, -9.9, -4.5]\n",
    "])"
   ]
  },
  {
   "cell_type": "code",
   "execution_count": 3,
   "metadata": {},
   "outputs": [],
   "source": [
    "ave = np.mean(X)\n",
    "div = np.std(X)\n",
    "\n",
    "def binarize_by_range(matrix):\n",
    "    result = []\n",
    "    for r in matrix:\n",
    "        row = []\n",
    "        for c in r:\n",
    "            c = 1 if (c >= ave - div) and (c <= ave + div) else 0\n",
    "            row.append(c)\n",
    "        result.append(row)\n",
    "    return result"
   ]
  },
  {
   "cell_type": "code",
   "execution_count": 4,
   "metadata": {},
   "outputs": [
    {
     "data": {
      "text/plain": [
       "[[1, 1, 1], [1, 1, 1], [0, 0, 1]]"
      ]
     },
     "execution_count": 4,
     "metadata": {},
     "output_type": "execute_result"
    }
   ],
   "source": [
    "transformer = FunctionTransformer(binarize_by_range)\n",
    "transformer.transform(X)"
   ]
  }
 ],
 "metadata": {
  "kernelspec": {
   "display_name": "Python 3",
   "language": "python",
   "name": "python3"
  },
  "language_info": {
   "codemirror_mode": {
    "name": "ipython",
    "version": 3
   },
   "file_extension": ".py",
   "mimetype": "text/x-python",
   "name": "python",
   "nbconvert_exporter": "python",
   "pygments_lexer": "ipython3",
   "version": "3.10.9"
  },
  "orig_nbformat": 4,
  "vscode": {
   "interpreter": {
    "hash": "aee8b7b246df8f9039afb4144a1f6fd8d2ca17a180786b69acc140d282b71a49"
   }
  }
 },
 "nbformat": 4,
 "nbformat_minor": 2
}
