{
 "cells": [
  {
   "attachments": {},
   "cell_type": "markdown",
   "metadata": {},
   "source": [
    "# Лабораторна робота №16"
   ]
  },
  {
   "attachments": {},
   "cell_type": "markdown",
   "metadata": {},
   "source": [
    "## Лінійна регресія\n",
    "\n",
    "Для знаходження значень коефіцієнтів лінійної регресії з однією ознакою необхідно вирішити систему рівнянь: "
   ]
  },
  {
   "attachments": {},
   "cell_type": "markdown",
   "metadata": {},
   "source": [
    "$$\n",
    " \\begin{cases}\n",
    "   \\theta_0l + \\theta_1\\sum\\limits_{i = 1}^{l} x_i = \\sum\\limits_{i = 1}^{l} y_i\\\\\n",
    "   \\theta_0\\sum\\limits_{i = 1}^{l} x_i + \\theta_1\\sum\\limits_{i = 1}^{l} x^2_i = \\sum\\limits_{i = 1}^{l} x_iy_i\\\\\n",
    " \\end{cases}\n",
    "$$"
   ]
  },
  {
   "attachments": {},
   "cell_type": "markdown",
   "metadata": {},
   "source": [
    "Вирішивши цю систему отримаємо:\n",
    "\n",
    "$$\n",
    "\\theta_1=\\frac{\\sum\\limits_{i = 1}^{l} x_iy_i - \\frac{\\sum\\limits_{i = 1}^{l} x_i\\sum\\limits_{i = 1}^{l} y_i}{l}}{\\sum\\limits_{i = 1}^{l} x^2_i - \\frac{\\sum\\limits_{i = 1}^{l} x_i\\sum\\limits_{i = 1}^{l} x_i}{l}}\n",
    "$$\n",
    "\n",
    "$$\n",
    "\\theta_0=\\frac{\\sum\\limits_{i = 1}^{l}y_i - \\theta_1\\sum\\limits_{i = 1}^{l}x_i}{l}\n",
    "$$\n"
   ]
  },
  {
   "attachments": {},
   "cell_type": "markdown",
   "metadata": {},
   "source": [
    "Тоді алгоритм набуває вигляду:"
   ]
  },
  {
   "attachments": {},
   "cell_type": "markdown",
   "metadata": {},
   "source": [
    "$$a(x)=\\theta_0 + \\theta_1x$$"
   ]
  },
  {
   "cell_type": "code",
   "execution_count": 200,
   "metadata": {},
   "outputs": [],
   "source": [
    "import numpy as np\n",
    "import matplotlib.pyplot as plt\n",
    "from sklearn.model_selection import train_test_split\n",
    "from sklearn.linear_model import LinearRegression\n",
    "import sklearn.metrics as sm\n",
    "\n",
    "%matplotlib inline"
   ]
  },
  {
   "cell_type": "code",
   "execution_count": 201,
   "metadata": {},
   "outputs": [],
   "source": [
    "def load_data(input_file, delimiter = ','):\n",
    "    data = np.loadtxt(input_file, delimiter=delimiter)\n",
    "    X, y = data[:, :-1], data[:, -1]\n",
    "    return X, y"
   ]
  },
  {
   "cell_type": "code",
   "execution_count": 202,
   "metadata": {},
   "outputs": [],
   "source": [
    "X, y = load_data('../data/data_singlevar_regr.txt')\n",
    "x_train, x_test, y_train, y_test = train_test_split(X, y, random_state=5)"
   ]
  },
  {
   "cell_type": "code",
   "execution_count": 203,
   "metadata": {},
   "outputs": [],
   "source": [
    "def compute_theta_1(x_train, y_train):\n",
    "    m = x_train.shape[0]\n",
    "    \n",
    "    x = x_train[:, 0]\n",
    "    y = y_train\n",
    "\n",
    "    sum_x = np.sum(x)\n",
    "    sum_y = np.sum(y)\n",
    "    sum_xy = np.sum(x*y)\n",
    "    sum_xx = np.sum(x*x)\n",
    "\n",
    "    return (sum_xy - sum_x * sum_y / m) / (sum_xx - sum_x * sum_x / m)"
   ]
  },
  {
   "cell_type": "code",
   "execution_count": 204,
   "metadata": {},
   "outputs": [
    {
     "name": "stdout",
     "output_type": "stream",
     "text": [
      "0.6772803684244377\n"
     ]
    }
   ],
   "source": [
    "theta_1 = compute_theta_1(x_train, y_train)\n",
    "print(theta_1)"
   ]
  },
  {
   "cell_type": "code",
   "execution_count": 205,
   "metadata": {},
   "outputs": [],
   "source": [
    "def compute_theta_0(x_train, y_train, theta_1):\n",
    "    m = x_train.shape[0]\n",
    "    \n",
    "    x = x_train[:, 0]\n",
    "    y = y_train\n",
    "\n",
    "    sum_x = np.sum(x)\n",
    "    sum_y = np.sum(y)\n",
    "    \n",
    "    return (sum_y - theta_1 * sum_x) / m\n"
   ]
  },
  {
   "cell_type": "code",
   "execution_count": 206,
   "metadata": {},
   "outputs": [
    {
     "name": "stdout",
     "output_type": "stream",
     "text": [
      "4.090420181414748\n"
     ]
    }
   ],
   "source": [
    "theta_0 = compute_theta_0(x_train, y_train, theta_1)\n",
    "print(theta_0)"
   ]
  },
  {
   "attachments": {},
   "cell_type": "markdown",
   "metadata": {},
   "source": [
    "Прогноз отриманий на тренувальних даних `y_predicted`"
   ]
  },
  {
   "cell_type": "code",
   "execution_count": 207,
   "metadata": {},
   "outputs": [],
   "source": [
    "m = x_train.shape[0]\n",
    "y_predicted = np.zeros(m)\n",
    "\n",
    "for i in range(m):\n",
    "    y_predicted[i] = theta_0 + theta_1 * x_train[i]"
   ]
  },
  {
   "attachments": {},
   "cell_type": "markdown",
   "metadata": {},
   "source": [
    "Прогноз отриманий на  даних для перевірки `y_test_predicted`"
   ]
  },
  {
   "cell_type": "code",
   "execution_count": 208,
   "metadata": {},
   "outputs": [],
   "source": [
    "n = x_test.shape[0]\n",
    "y_test_predicted = np.zeros(n)\n",
    "for i in range(n):\n",
    "    y_test_predicted[i] = theta_0 + theta_1 * x_test[i]"
   ]
  },
  {
   "cell_type": "code",
   "execution_count": 209,
   "metadata": {},
   "outputs": [
    {
     "name": "stdout",
     "output_type": "stream",
     "text": [
      "Метрики якості на тренувальному наборі:\n",
      "Mean absolute error = 0.68\n",
      "Mean squared error = 0.67\n",
      "Median absolute error = 0.71\n",
      "Explain variance score = 0.87\n",
      "R2 score = 0.87\n"
     ]
    }
   ],
   "source": [
    "print(\"Метрики якості на тренувальному наборі:\")\n",
    "print(\"Mean absolute error =\", round(sm.mean_absolute_error(y_train, y_predicted), 2))\n",
    "print(\"Mean squared error =\", round(sm.mean_squared_error(y_train, y_predicted), 2))\n",
    "print(\"Median absolute error =\", round(sm.median_absolute_error(y_train, y_predicted), 2))\n",
    "print(\"Explain variance score =\", round(sm.explained_variance_score(y_train, y_predicted), 2))\n",
    "print(\"R2 score =\", round(sm.r2_score(y_train, y_predicted), 2))"
   ]
  },
  {
   "cell_type": "code",
   "execution_count": 210,
   "metadata": {},
   "outputs": [
    {
     "name": "stdout",
     "output_type": "stream",
     "text": [
      "Метрики якості на наборі для перевірки:\n",
      "Mean absolute error = 0.54\n",
      "Mean squared error = 0.5\n",
      "Median absolute error = 0.34\n",
      "Explain variance score = 0.87\n",
      "R2 score = 0.84\n"
     ]
    }
   ],
   "source": [
    "print(\"Метрики якості на наборі для перевірки:\")\n",
    "print(\"Mean absolute error =\", round(sm.mean_absolute_error(y_test, y_test_predicted), 2))\n",
    "print(\"Mean squared error =\", round(sm.mean_squared_error(y_test, y_test_predicted), 2))\n",
    "print(\"Median absolute error =\", round(sm.median_absolute_error(y_test, y_test_predicted), 2))\n",
    "print(\"Explain variance score =\", round(sm.explained_variance_score(y_test, y_test_predicted), 2))\n",
    "print(\"R2 score =\", round(sm.r2_score(y_test, y_test_predicted), 2))"
   ]
  },
  {
   "attachments": {},
   "cell_type": "markdown",
   "metadata": {},
   "source": [
    "### Візуалізація отриманих результатів"
   ]
  },
  {
   "cell_type": "code",
   "execution_count": 211,
   "metadata": {},
   "outputs": [
    {
     "data": {
      "image/png": "[encoded data removed]",
      "text/plain": [
       "<Figure size 640x480 with 1 Axes>"
      ]
     },
     "metadata": {},
     "output_type": "display_data"
    }
   ],
   "source": [
    "# Plot the linear fit\n",
    "plt.plot(x_train, y_predicted, c = \"b\")\n",
    "\n",
    "plt.scatter(x_test, y_test, color='m')\n",
    "plt.scatter(x_train, y_train, marker='x', c='r') \n",
    "\n",
    "plt.xticks(())\n",
    "plt.yticks(())\n",
    "plt.xlabel('X')\n",
    "plt.ylabel('y')\n",
    "plt.title('Власна реалізація лінійної регресії')\n",
    "\n",
    "plt.show()"
   ]
  },
  {
   "attachments": {},
   "cell_type": "markdown",
   "metadata": {},
   "source": [
    "метрики якості для власної реалізації"
   ]
  },
  {
   "cell_type": "code",
   "execution_count": 212,
   "metadata": {},
   "outputs": [],
   "source": [
    "\n",
    "linear_regressor = LinearRegression()\n",
    "linear_regressor.fit(x_train, y_train)\n",
    "y_predicted_lr = linear_regressor.predict(x_train)\n",
    "y_test_predicted_lr = linear_regressor.predict(x_test)"
   ]
  },
  {
   "cell_type": "code",
   "execution_count": 213,
   "metadata": {},
   "outputs": [
    {
     "name": "stdout",
     "output_type": "stream",
     "text": [
      "Метрики якості на тренувальному наборі:\n",
      "Mean absolute error = 0.68\n",
      "Mean squared error = 0.67\n",
      "Median absolute error = 0.71\n",
      "Explain variance score = 0.87\n",
      "R2 score = 0.87\n"
     ]
    }
   ],
   "source": [
    "print(\"Метрики якості на тренувальному наборі:\")\n",
    "print(\"Mean absolute error =\", round(sm.mean_absolute_error(y_train, y_predicted_lr), 2))\n",
    "print(\"Mean squared error =\", round(sm.mean_squared_error(y_train, y_predicted_lr), 2))\n",
    "print(\"Median absolute error =\", round(sm.median_absolute_error(y_train, y_predicted_lr), 2))\n",
    "print(\"Explain variance score =\", round(sm.explained_variance_score(y_train, y_predicted_lr), 2))\n",
    "print(\"R2 score =\", round(sm.r2_score(y_train, y_predicted_lr), 2))"
   ]
  },
  {
   "cell_type": "code",
   "execution_count": 214,
   "metadata": {},
   "outputs": [
    {
     "name": "stdout",
     "output_type": "stream",
     "text": [
      "Метрики якості на наборі для перевірки:\n",
      "Mean absolute error = 0.54\n",
      "Mean squared error = 0.5\n",
      "Median absolute error = 0.34\n",
      "Explain variance score = 0.87\n",
      "R2 score = 0.84\n"
     ]
    }
   ],
   "source": [
    "print(\"Метрики якості на наборі для перевірки:\")\n",
    "print(\"Mean absolute error =\", round(sm.mean_absolute_error(y_test, y_test_predicted_lr), 2))\n",
    "print(\"Mean squared error =\", round(sm.mean_squared_error(y_test, y_test_predicted_lr), 2))\n",
    "print(\"Median absolute error =\", round(sm.median_absolute_error(y_test, y_test_predicted_lr), 2))\n",
    "print(\"Explain variance score =\", round(sm.explained_variance_score(y_test, y_test_predicted_lr), 2))\n",
    "print(\"R2 score =\", round(sm.r2_score(y_test, y_test_predicted_lr), 2))"
   ]
  },
  {
   "cell_type": "code",
   "execution_count": 215,
   "metadata": {},
   "outputs": [
    {
     "data": {
      "image/png": "[encoded data removed]",
      "text/plain": [
       "<Figure size 640x480 with 1 Axes>"
      ]
     },
     "metadata": {},
     "output_type": "display_data"
    }
   ],
   "source": [
    "plt.scatter(x_train, y_train, color='r', s=10)\n",
    "plt.scatter(x_test, y_test, color='g')\n",
    "\n",
    "Y_pred = linear_regressor.predict(X)\n",
    "\n",
    "plt.plot(X, Y_pred, color='k', linewidth=2)\n",
    "\n",
    "plt.xticks(())\n",
    "plt.yticks(())\n",
    "plt.xlabel('X')\n",
    "plt.ylabel('y')\n",
    "plt.title('LinearRegression реалізація лінійної регресії')\n",
    "\n",
    "plt.show()"
   ]
  }
 ],
 "metadata": {
  "kernelspec": {
   "display_name": "Python 3",
   "language": "python",
   "name": "python3"
  },
  "language_info": {
   "codemirror_mode": {
    "name": "ipython",
    "version": 3
   },
   "file_extension": ".py",
   "mimetype": "text/x-python",
   "name": "python",
   "nbconvert_exporter": "python",
   "pygments_lexer": "ipython3",
   "version": "3.11.2"
  },
  "orig_nbformat": 4,
  "vscode": {
   "interpreter": {
    "hash": "aee8b7b246df8f9039afb4144a1f6fd8d2ca17a180786b69acc140d282b71a49"
   }
  }
 },
 "nbformat": 4,
 "nbformat_minor": 2
}
