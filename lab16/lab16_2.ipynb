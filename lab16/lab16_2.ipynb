{
 "cells": [
  {
   "attachments": {},
   "cell_type": "markdown",
   "metadata": {},
   "source": [
    "# Лабораторна робота №16"
   ]
  },
  {
   "attachments": {},
   "cell_type": "markdown",
   "metadata": {},
   "source": [
    "## Спроба вирішити задачу регресії за допомогою методу найменших квадратів і квадратичної цільової функції\n",
    "\n",
    "Для знаходження значень коефіцієнтів регресії з однією ознакою та для квадратичної функції необхідно вирішити систему рівнянь: "
   ]
  },
  {
   "attachments": {},
   "cell_type": "markdown",
   "metadata": {},
   "source": [
    "$\n",
    " \\begin{cases}\n",
    "   \\theta_0l + \\theta_1\\sum\\limits_{i = 1}^{l} x_i + \\theta_2\\sum\\limits_{i = 1}^{l} x^2_i = \\sum\\limits_{i = 1}^{l} y_i\\\\\n",
    "   \\theta_0\\sum\\limits_{i = 1}^{l} x_i + \\theta_1\\sum\\limits_{i = 1}^{l} x^2_i + \\theta_2\\sum\\limits_{i = 1}^{l} x^3_i = \\sum\\limits_{i = 1}^{l} x_iy_i\\\\\n",
    "   \\theta_0\\sum\\limits_{i = 1}^{l} x^2_i + \\theta_1\\sum\\limits_{i = 1}^{l} x^3_i + \\theta_2\\sum\\limits_{i = 1}^{l} x^4_i = \\sum\\limits_{i = 1}^{l} x^2_iy_i\\\\\n",
    " \\end{cases}\n",
    "$"
   ]
  },
  {
   "attachments": {},
   "cell_type": "markdown",
   "metadata": {},
   "source": [
    "Вирішимо цю систему за допомогою бібліотеки Sympy"
   ]
  },
  {
   "cell_type": "code",
   "execution_count": 398,
   "metadata": {},
   "outputs": [],
   "source": [
    "import sympy as sp\n",
    "\n",
    "# Визначаємо символьні змінні\n",
    "t0, t1, t2, l, sum_x, sum_x2, sum_y, sum_x3, sum_xy, sum_x4, sum_x2y = sp.symbols('t0, t1, t2, l, sum_x, sum_x2, sum_y, sum_x3, sum_xy, sum_x4, sum_x2y')\n",
    "\n",
    "eq1 = sp.Eq(t0*l + t1*sum_x + t2*sum_x2, sum_y)\n",
    "eq2 = sp.Eq(t0*sum_x + t1*sum_x2 + t2*sum_x3, sum_xy)\n",
    "eq3 = sp.Eq(t0*sum_x2 + t1*sum_x3 + t2*sum_x4, sum_x2y)\n",
    "\n",
    "# Знаходимо символічний розв'язок рівнянь (без підстановки відомих значень)\n",
    "sol = sp.solve([eq1, eq2, eq3], [t0, t1, t2])"
   ]
  },
  {
   "cell_type": "code",
   "execution_count": 399,
   "metadata": {},
   "outputs": [
    {
     "name": "stdout",
     "output_type": "stream",
     "text": [
      "$\\left\\{ \\theta_0 : \\frac{\\sum\\limits_{i = 1}^{l} x^2_iy_i \\sum\\limits_{i = 1}^{l} x^2_iy_i \\sum\\limits_{i = 1}^{l} x^3_i - \\sum\\limits_{i = 1}^{l} x^2_iy_i \\sum\\limits_{i = 1}^{l} x^4_i \\sum\\limits_{i = 1}^{l} x_iy_i - \\left(\\sum\\limits_{i = 1}^{l} x^2_i\\right)^{2} \\sum\\limits_{i = 1}^{l} x^2_iy_i + \\sum\\limits_{i = 1}^{l} x^2_i \\sum\\limits_{i = 1}^{l} x^3_i \\sum\\limits_{i = 1}^{l} x_iy_i + \\sum\\limits_{i = 1}^{l} x^2_i \\sum\\limits_{i = 1}^{l} x^4_i \\sum\\limits_{i = 1}^{l} y_i - \\left(\\sum\\limits_{i = 1}^{l} x^3_i\\right)^{2} \\sum\\limits_{i = 1}^{l} y_i}{l \\sum\\limits_{i = 1}^{l} x^2_i \\sum\\limits_{i = 1}^{l} x^4_i - l \\left(\\sum\\limits_{i = 1}^{l} x^3_i\\right)^{2} - \\left(\\sum\\limits_{i = 1}^{l} x^2_iy_i\\right)^{2} \\sum\\limits_{i = 1}^{l} x^4_i + 2 \\sum\\limits_{i = 1}^{l} x^2_iy_i \\sum\\limits_{i = 1}^{l} x^2_i \\sum\\limits_{i = 1}^{l} x^3_i - \\left(\\sum\\limits_{i = 1}^{l} x^2_i\\right)^{3}}, \\  \\theta_1 : \\frac{- l \\sum\\limits_{i = 1}^{l} x^2_iy_i \\sum\\limits_{i = 1}^{l} x^3_i + l \\sum\\limits_{i = 1}^{l} x^4_i \\sum\\limits_{i = 1}^{l} x_iy_i + \\sum\\limits_{i = 1}^{l} x^2_iy_i \\sum\\limits_{i = 1}^{l} x^2_i \\sum\\limits_{i = 1}^{l} x^2_iy_i - \\sum\\limits_{i = 1}^{l} x^2_iy_i \\sum\\limits_{i = 1}^{l} x^4_i \\sum\\limits_{i = 1}^{l} y_i - \\left(\\sum\\limits_{i = 1}^{l} x^2_i\\right)^{2} \\sum\\limits_{i = 1}^{l} x_iy_i + \\sum\\limits_{i = 1}^{l} x^2_i \\sum\\limits_{i = 1}^{l} x^3_i \\sum\\limits_{i = 1}^{l} y_i}{l \\sum\\limits_{i = 1}^{l} x^2_i \\sum\\limits_{i = 1}^{l} x^4_i - l \\left(\\sum\\limits_{i = 1}^{l} x^3_i\\right)^{2} - \\left(\\sum\\limits_{i = 1}^{l} x^2_iy_i\\right)^{2} \\sum\\limits_{i = 1}^{l} x^4_i + 2 \\sum\\limits_{i = 1}^{l} x^2_iy_i \\sum\\limits_{i = 1}^{l} x^2_i \\sum\\limits_{i = 1}^{l} x^3_i - \\left(\\sum\\limits_{i = 1}^{l} x^2_i\\right)^{3}}, \\  \\theta_2 : \\frac{l \\sum\\limits_{i = 1}^{l} x^2_i \\sum\\limits_{i = 1}^{l} x^2_iy_i - l \\sum\\limits_{i = 1}^{l} x^3_i \\sum\\limits_{i = 1}^{l} x_iy_i - \\left(\\sum\\limits_{i = 1}^{l} x^2_iy_i\\right)^{2} \\sum\\limits_{i = 1}^{l} x^2_iy_i + \\sum\\limits_{i = 1}^{l} x^2_iy_i \\sum\\limits_{i = 1}^{l} x^2_i \\sum\\limits_{i = 1}^{l} x_iy_i + \\sum\\limits_{i = 1}^{l} x^2_iy_i \\sum\\limits_{i = 1}^{l} x^3_i \\sum\\limits_{i = 1}^{l} y_i - \\left(\\sum\\limits_{i = 1}^{l} x^2_i\\right)^{2} \\sum\\limits_{i = 1}^{l} y_i}{l \\sum\\limits_{i = 1}^{l} x^2_i \\sum\\limits_{i = 1}^{l} x^4_i - l \\left(\\sum\\limits_{i = 1}^{l} x^3_i\\right)^{2} - \\left(\\sum\\limits_{i = 1}^{l} x^2_iy_i\\right)^{2} \\sum\\limits_{i = 1}^{l} x^4_i + 2 \\sum\\limits_{i = 1}^{l} x^2_iy_i \\sum\\limits_{i = 1}^{l} x^2_i \\sum\\limits_{i = 1}^{l} x^3_i - \\left(\\sum\\limits_{i = 1}^{l} x^2_i\\right)^{3}}\\right\\}$\n"
     ]
    }
   ],
   "source": [
    "# замінюємо вигляд змінних на їхні математичні еквіваленти з формул\n",
    "symbol_names = {\n",
    "    t0: '\\\\theta_0', t1: '\\\\theta_1', t2: '\\\\theta_2', \n",
    "    sum_x: '\\sum\\limits_{i = 1}^{l} x^2_iy_i',\n",
    "    sum_x2: '\\sum\\limits_{i = 1}^{l} x^2_i',\n",
    "    sum_x3: '\\sum\\limits_{i = 1}^{l} x^3_i',\n",
    "    sum_x4: '\\sum\\limits_{i = 1}^{l} x^4_i',\n",
    "    sum_y: '\\sum\\limits_{i = 1}^{l} y_i',\n",
    "    sum_xy: '\\sum\\limits_{i = 1}^{l} x_iy_i',\n",
    "    sum_x2y: '\\sum\\limits_{i = 1}^{l} x^2_iy_i'\n",
    "}\n",
    "# виводимо результати відформатовані в latex\n",
    "latex_sol = sp.latex(sol, symbol_names=symbol_names, mode='inline')\n",
    "print(latex_sol)"
   ]
  },
  {
   "attachments": {},
   "cell_type": "markdown",
   "metadata": {},
   "source": [
    "Розвʼязками системи будуть:\n",
    "\n",
    "$\\theta_0 : \\frac{\\sum\\limits_{i = 1}^{l} x^2_iy_i \\sum\\limits_{i = 1}^{l} x^2_iy_i \\sum\\limits_{i = 1}^{l} x^3_i - \\sum\\limits_{i = 1}^{l} x^2_iy_i \\sum\\limits_{i = 1}^{l} x^4_i \\sum\\limits_{i = 1}^{l} x_iy_i - \\left(\\sum\\limits_{i = 1}^{l} x^2_i\\right)^{2} \\sum\\limits_{i = 1}^{l} x^2_iy_i + \\sum\\limits_{i = 1}^{l} x^2_i \\sum\\limits_{i = 1}^{l} x^3_i \\sum\\limits_{i = 1}^{l} x_iy_i + \\sum\\limits_{i = 1}^{l} x^2_i \\sum\\limits_{i = 1}^{l} x^4_i \\sum\\limits_{i = 1}^{l} y_i - \\left(\\sum\\limits_{i = 1}^{l} x^3_i\\right)^{2} \\sum\\limits_{i = 1}^{l} y_i}{l \\sum\\limits_{i = 1}^{l} x^2_i \\sum\\limits_{i = 1}^{l} x^4_i - l \\left(\\sum\\limits_{i = 1}^{l} x^3_i\\right)^{2} - \\left(\\sum\\limits_{i = 1}^{l} x^2_iy_i\\right)^{2} \\sum\\limits_{i = 1}^{l} x^4_i + 2 \\sum\\limits_{i = 1}^{l} x^2_iy_i \\sum\\limits_{i = 1}^{l} x^2_i \\sum\\limits_{i = 1}^{l} x^3_i - \\left(\\sum\\limits_{i = 1}^{l} x^2_i\\right)^{3}}$\n",
    "\n",
    "$\\theta_1 : \\frac{- l \\sum\\limits_{i = 1}^{l} x^2_iy_i \\sum\\limits_{i = 1}^{l} x^3_i + l \\sum\\limits_{i = 1}^{l} x^4_i \\sum\\limits_{i = 1}^{l} x_iy_i + \\sum\\limits_{i = 1}^{l} x^2_iy_i \\sum\\limits_{i = 1}^{l} x^2_i \\sum\\limits_{i = 1}^{l} x^2_iy_i - \\sum\\limits_{i = 1}^{l} x^2_iy_i \\sum\\limits_{i = 1}^{l} x^4_i \\sum\\limits_{i = 1}^{l} y_i - \\left(\\sum\\limits_{i = 1}^{l} x^2_i\\right)^{2} \\sum\\limits_{i = 1}^{l} x_iy_i + \\sum\\limits_{i = 1}^{l} x^2_i \\sum\\limits_{i = 1}^{l} x^3_i \\sum\\limits_{i = 1}^{l} y_i}{l \\sum\\limits_{i = 1}^{l} x^2_i \\sum\\limits_{i = 1}^{l} x^4_i - l \\left(\\sum\\limits_{i = 1}^{l} x^3_i\\right)^{2} - \\left(\\sum\\limits_{i = 1}^{l} x^2_iy_i\\right)^{2} \\sum\\limits_{i = 1}^{l} x^4_i + 2 \\sum\\limits_{i = 1}^{l} x^2_iy_i \\sum\\limits_{i = 1}^{l} x^2_i \\sum\\limits_{i = 1}^{l} x^3_i - \\left(\\sum\\limits_{i = 1}^{l} x^2_i\\right)^{3}}$\n",
    "\n",
    "$\\theta_2 : \\frac{l \\sum\\limits_{i = 1}^{l} x^2_i \\sum\\limits_{i = 1}^{l} x^2_iy_i - l \\sum\\limits_{i = 1}^{l} x^3_i \\sum\\limits_{i = 1}^{l} x_iy_i - \\left(\\sum\\limits_{i = 1}^{l} x^2_iy_i\\right)^{2} \\sum\\limits_{i = 1}^{l} x^2_iy_i + \\sum\\limits_{i = 1}^{l} x^2_iy_i \\sum\\limits_{i = 1}^{l} x^2_i \\sum\\limits_{i = 1}^{l} x_iy_i + \\sum\\limits_{i = 1}^{l} x^2_iy_i \\sum\\limits_{i = 1}^{l} x^3_i \\sum\\limits_{i = 1}^{l} y_i - \\left(\\sum\\limits_{i = 1}^{l} x^2_i\\right)^{2} \\sum\\limits_{i = 1}^{l} y_i}{l \\sum\\limits_{i = 1}^{l} x^2_i \\sum\\limits_{i = 1}^{l} x^4_i - l \\left(\\sum\\limits_{i = 1}^{l} x^3_i\\right)^{2} - \\left(\\sum\\limits_{i = 1}^{l} x^2_iy_i\\right)^{2} \\sum\\limits_{i = 1}^{l} x^4_i + 2 \\sum\\limits_{i = 1}^{l} x^2_iy_i \\sum\\limits_{i = 1}^{l} x^2_i \\sum\\limits_{i = 1}^{l} x^3_i - \\left(\\sum\\limits_{i = 1}^{l} x^2_i\\right)^{3}}$\n",
    "\n"
   ]
  },
  {
   "attachments": {},
   "cell_type": "markdown",
   "metadata": {},
   "source": [
    "Тоді алгоритм набуває вигляду:"
   ]
  },
  {
   "attachments": {},
   "cell_type": "markdown",
   "metadata": {},
   "source": [
    "$a(x)=\\theta_0 + \\theta_1x + \\theta_2x^2$"
   ]
  },
  {
   "attachments": {},
   "cell_type": "markdown",
   "metadata": {},
   "source": [
    "Завантажимо дані"
   ]
  },
  {
   "cell_type": "code",
   "execution_count": 400,
   "metadata": {},
   "outputs": [],
   "source": [
    "import numpy as np\n",
    "import matplotlib.pyplot as plt\n",
    "from sklearn.model_selection import train_test_split\n",
    "import sklearn.metrics as sm\n",
    "\n",
    "%matplotlib inline"
   ]
  },
  {
   "cell_type": "code",
   "execution_count": 401,
   "metadata": {},
   "outputs": [],
   "source": [
    "def load_data(input_file, delimiter = ','):\n",
    "    data = np.loadtxt(input_file, delimiter=delimiter)\n",
    "    X, y = data[:, :-1], data[:, -1]\n",
    "    return X, y"
   ]
  },
  {
   "cell_type": "code",
   "execution_count": 402,
   "metadata": {},
   "outputs": [],
   "source": [
    "X, y = load_data('../data/data_singlevar_regr.txt')\n",
    "x_train, x_test, y_train, y_test = train_test_split(X, y, random_state=5)"
   ]
  },
  {
   "attachments": {},
   "cell_type": "markdown",
   "metadata": {},
   "source": [
    "Підставимо значення в отриманне рівняння щоб отримати $\\theta_0$, $\\theta_1$ та $\\theta_2$: "
   ]
  },
  {
   "cell_type": "code",
   "execution_count": 418,
   "metadata": {},
   "outputs": [],
   "source": [
    "x = x_train[:, 0]\n",
    "y = y_train\n",
    "\n",
    "vals = {\n",
    "    l:  x.shape[0],\n",
    "    sum_x: np.sum(x), \n",
    "    sum_x2: np.sum(x*x),\n",
    "    sum_x3: np.sum(x*x*x),\n",
    "    sum_x4: np.sum(x*x*x*x),\n",
    "    sum_y: np.sum(y),\n",
    "    sum_xy: np.sum(x*y),\n",
    "    sum_x2y: np.sum(x*x*y)\n",
    "}\n",
    "\n",
    "theta_0 = sol.get(t0).subs(vals)\n",
    "theta_1 = sol.get(t1).subs(vals)\n",
    "theta_2 = sol.get(t2).subs(vals)\n",
    "\n"
   ]
  },
  {
   "cell_type": "code",
   "execution_count": 404,
   "metadata": {},
   "outputs": [
    {
     "name": "stdout",
     "output_type": "stream",
     "text": [
      "theta_0:  4.19965616019174\n",
      "theta_1:  0.674394815198735\n",
      "theta_2:  -0.0113573660207802\n"
     ]
    }
   ],
   "source": [
    "print('theta_0: ', theta_0)\n",
    "print('theta_1: ', theta_1)\n",
    "print('theta_2: ', theta_2)"
   ]
  },
  {
   "attachments": {},
   "cell_type": "markdown",
   "metadata": {},
   "source": [
    "Прогноз отриманий на тренувальних даних `y_predicted`"
   ]
  },
  {
   "cell_type": "code",
   "execution_count": 424,
   "metadata": {},
   "outputs": [
    {
     "name": "stdout",
     "output_type": "stream",
     "text": [
      "Метрики якості на тренувальному наборі:\n",
      "Mean absolute error = 6.68\n",
      "Mean squared error = 121.78\n",
      "Median absolute error = 2.58\n",
      "Explain variance score = -14.54\n",
      "R2 score = -23.08\n"
     ]
    }
   ],
   "source": [
    "m = x_train.shape[0]\n",
    "y_predicted = np.zeros(m)\n",
    "\n",
    "for i in range(m):\n",
    "    y_predicted[i] = theta_0 + theta_1 * x_train[i]  + theta_1 * x_train[i] * x_train[i]\n",
    "\n",
    "print(\"Метрики якості на тренувальному наборі:\")\n",
    "print(\"Mean absolute error =\", round(sm.mean_absolute_error(y_train, y_predicted), 2))\n",
    "print(\"Mean squared error =\", round(sm.mean_squared_error(y_train, y_predicted), 2))\n",
    "print(\"Median absolute error =\", round(sm.median_absolute_error(y_train, y_predicted), 2))\n",
    "print(\"Explain variance score =\", round(sm.explained_variance_score(y_train, y_predicted), 2))\n",
    "print(\"R2 score =\", round(sm.r2_score(y_train, y_predicted), 2))"
   ]
  },
  {
   "attachments": {},
   "cell_type": "markdown",
   "metadata": {},
   "source": [
    "Прогноз отриманий на  даних для перевірки `y_test_predicted`"
   ]
  },
  {
   "cell_type": "code",
   "execution_count": 423,
   "metadata": {},
   "outputs": [
    {
     "name": "stdout",
     "output_type": "stream",
     "text": [
      "Метрики якості на наборі для перевірки:\n",
      "Mean absolute error = 5.27\n",
      "Mean squared error = 61.85\n",
      "Median absolute error = 2.54\n",
      "Explain variance score = -10.1\n",
      "R2 score = -18.99\n"
     ]
    }
   ],
   "source": [
    "n = x_test.shape[0]\n",
    "y_test_predicted = np.zeros(n)\n",
    "for i in range(n):\n",
    "    y_test_predicted[i] =  theta_0 + theta_1 * x_test[i]  + theta_1 * x_test[i] * x_test[i]\n",
    "\n",
    "print(\"Метрики якості на наборі для перевірки:\")\n",
    "print(\"Mean absolute error =\", round(sm.mean_absolute_error(y_test, y_test_predicted), 2))\n",
    "print(\"Mean squared error =\", round(sm.mean_squared_error(y_test, y_test_predicted), 2))\n",
    "print(\"Median absolute error =\", round(sm.median_absolute_error(y_test, y_test_predicted), 2))\n",
    "print(\"Explain variance score =\", round(sm.explained_variance_score(y_test, y_test_predicted), 2))\n",
    "print(\"R2 score =\", round(sm.r2_score(y_test, y_test_predicted), 2))"
   ]
  },
  {
   "attachments": {},
   "cell_type": "markdown",
   "metadata": {},
   "source": [
    "### Візуалізація отриманих результатів"
   ]
  },
  {
   "cell_type": "code",
   "execution_count": 409,
   "metadata": {},
   "outputs": [
    {
     "data": {
      "image/png": "[encoded data removed]",
      "text/plain": [
       "<Figure size 640x480 with 1 Axes>"
      ]
     },
     "metadata": {},
     "output_type": "display_data"
    }
   ],
   "source": [
    "plt.scatter(x_train, y_predicted, c = \"b\", marker='d')\n",
    "plt.scatter(x_test, y_test_predicted, c = \"cyan\", marker='d')\n",
    "\n",
    "plt.scatter(x_train, y_train, marker='x', c='r') \n",
    "plt.scatter(x_test, y_test, color='m')\n",
    "\n",
    "plt.xlabel('X')\n",
    "plt.ylabel('y')\n",
    "plt.title('Власна реалізація квадратичної регресії')\n",
    "\n",
    "plt.show()"
   ]
  },
  {
   "attachments": {},
   "cell_type": "markdown",
   "metadata": {},
   "source": [
    "❌ Загальний результат незадовільний. \n",
    "\n",
    "Вершина параболи перебуває там де є найбільше скупчення точок тренувального набору.  \n",
    "Можливо завдяки тому що більшість передбачень сконцентровані біля вершини параболи, тому загальний рівень відхилень мінімальний.  \n",
    "Але значення біля країв графіку значно відрізняються."
   ]
  },
  {
   "attachments": {},
   "cell_type": "markdown",
   "metadata": {},
   "source": [
    "Можливо було покращити результат і спробувати нахилити параболу відносно вісі Y, для цього потрібно застосувати формули повороту вісі координат\n",
    "\n",
    "$$\n",
    "\\bar{x} = x cos(\\alpha) - y sin(\\alpha)\\\\\n",
    "\\bar{y} = x sin(\\alpha) - y cos(\\alpha)\\\\\n",
    "$$"
   ]
  },
  {
   "attachments": {},
   "cell_type": "markdown",
   "metadata": {},
   "source": [
    "Але це значно ускладнить знаходження розвʼязків аналітичним шляхом"
   ]
  }
 ],
 "metadata": {
  "kernelspec": {
   "display_name": "Python 3",
   "language": "python",
   "name": "python3"
  },
  "language_info": {
   "codemirror_mode": {
    "name": "ipython",
    "version": 3
   },
   "file_extension": ".py",
   "mimetype": "text/x-python",
   "name": "python",
   "nbconvert_exporter": "python",
   "pygments_lexer": "ipython3",
   "version": "3.11.2"
  },
  "orig_nbformat": 4,
  "vscode": {
   "interpreter": {
    "hash": "aee8b7b246df8f9039afb4144a1f6fd8d2ca17a180786b69acc140d282b71a49"
   }
  }
 },
 "nbformat": 4,
 "nbformat_minor": 2
}
